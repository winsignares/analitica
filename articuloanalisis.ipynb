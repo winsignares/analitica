{
  "nbformat": 4,
  "nbformat_minor": 0,
  "metadata": {
    "colab": {
      "provenance": [],
      "authorship_tag": "ABX9TyNQvQ9bGLGg+YyZr/dHkFeE",
      "include_colab_link": true
    },
    "kernelspec": {
      "name": "python3",
      "display_name": "Python 3"
    },
    "language_info": {
      "name": "python"
    }
  },
  "cells": [
    {
      "cell_type": "markdown",
      "metadata": {
        "id": "view-in-github",
        "colab_type": "text"
      },
      "source": [
        "<a href=\"https://colab.research.google.com/github/winsignares/analitica/blob/main/articuloanalisis.ipynb\" target=\"_parent\"><img src=\"https://colab.research.google.com/assets/colab-badge.svg\" alt=\"Open In Colab\"/></a>"
      ]
    },
    {
      "cell_type": "markdown",
      "source": [
        "###Alistamos nuestra herram"
      ],
      "metadata": {
        "id": "j7sg4xGWZ4MX"
      }
    },
    {
      "cell_type": "code",
      "metadata": {
        "id": "3y4dgiViXyFU"
      },
      "source": [
        "import pandas as pd\n",
        "import matplotlib.pyplot as plt\n",
        "import numpy as np\n"
      ],
      "execution_count": 38,
      "outputs": []
    },
    {
      "cell_type": "markdown",
      "source": [
        "###cargamos la base de datos desde google drive\n"
      ],
      "metadata": {
        "id": "tkivqisd_cye"
      }
    },
    {
      "cell_type": "code",
      "source": [
        "from google.colab import files\n",
        "from google.colab import drive\n",
        "\n",
        "drive.mount('/content/drive')"
      ],
      "metadata": {
        "colab": {
          "base_uri": "https://localhost:8080/"
        },
        "id": "wbbTo58V_j6e",
        "outputId": "9cd2a195-1be6-45c9-c113-887f0d920bad"
      },
      "execution_count": 39,
      "outputs": [
        {
          "output_type": "stream",
          "name": "stdout",
          "text": [
            "Drive already mounted at /content/drive; to attempt to forcibly remount, call drive.mount(\"/content/drive\", force_remount=True).\n"
          ]
        }
      ]
    },
    {
      "cell_type": "markdown",
      "source": [
        "###accedemos a la ruta del excel"
      ],
      "metadata": {
        "id": "YT5k03-THaW9"
      }
    },
    {
      "cell_type": "code",
      "source": [
        "df = pd.read_excel('/content/drive/MyDrive/2023/delincuencia.xls')\n",
        "df.shape"
      ],
      "metadata": {
        "colab": {
          "base_uri": "https://localhost:8080/"
        },
        "id": "3xLEvn-yHeUM",
        "outputId": "12e2f1ca-b4a6-427e-8e44-639a3dc11110"
      },
      "execution_count": 40,
      "outputs": [
        {
          "output_type": "execute_result",
          "data": {
            "text/plain": [
              "(31764, 10)"
            ]
          },
          "metadata": {},
          "execution_count": 40
        }
      ]
    },
    {
      "cell_type": "markdown",
      "source": [
        "###dividimos el dataframe por segmentos"
      ],
      "metadata": {
        "id": "SR4R3OG0da6E"
      }
    },
    {
      "cell_type": "code",
      "source": [
        "df_2018 = df[df['AÑO']==\"2018\"]\n",
        "df_2019 = df[df['AÑO']==\"2019\"]\n",
        "df_2020 = df[df['AÑO']==\"2020\"]\n",
        "df_2021 = df[df['AÑO']==\"2021\"]\n",
        "df_2022 = df[df['AÑO']==\"2022\"]"
      ],
      "metadata": {
        "id": "7s2jBdeddj9N"
      },
      "execution_count": 44,
      "outputs": []
    }
  ]
}