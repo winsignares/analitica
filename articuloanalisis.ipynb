{
  "nbformat": 4,
  "nbformat_minor": 0,
  "metadata": {
    "colab": {
      "provenance": [],
      "authorship_tag": "ABX9TyPsMXScFUWaFASXmbddjVdk",
      "include_colab_link": true
    },
    "kernelspec": {
      "name": "python3",
      "display_name": "Python 3"
    },
    "language_info": {
      "name": "python"
    }
  },
  "cells": [
    {
      "cell_type": "markdown",
      "metadata": {
        "id": "view-in-github",
        "colab_type": "text"
      },
      "source": [
        "<a href=\"https://colab.research.google.com/github/winsignares/analitica/blob/main/articuloanalisis.ipynb\" target=\"_parent\"><img src=\"https://colab.research.google.com/assets/colab-badge.svg\" alt=\"Open In Colab\"/></a>"
      ]
    },
    {
      "cell_type": "markdown",
      "source": [
        "###Alistamos nuestra herram"
      ],
      "metadata": {
        "id": "j7sg4xGWZ4MX"
      }
    },
    {
      "cell_type": "code",
      "metadata": {
        "id": "3y4dgiViXyFU"
      },
      "source": [
        "import pandas as pd\n",
        "import matplotlib.pyplot as plt\n",
        "import numpy as np\n"
      ],
      "execution_count": 38,
      "outputs": []
    },
    {
      "cell_type": "markdown",
      "source": [
        "###cargamos la base de datos desde google drive\n"
      ],
      "metadata": {
        "id": "tkivqisd_cye"
      }
    },
    {
      "cell_type": "code",
      "source": [
        "from google.colab import files\n",
        "from google.colab import drive\n",
        "\n",
        "drive.mount('/content/drive')"
      ],
      "metadata": {
        "colab": {
          "base_uri": "https://localhost:8080/"
        },
        "id": "wbbTo58V_j6e",
        "outputId": "9cd2a195-1be6-45c9-c113-887f0d920bad"
      },
      "execution_count": 39,
      "outputs": [
        {
          "output_type": "stream",
          "name": "stdout",
          "text": [
            "Drive already mounted at /content/drive; to attempt to forcibly remount, call drive.mount(\"/content/drive\", force_remount=True).\n"
          ]
        }
      ]
    },
    {
      "cell_type": "markdown",
      "source": [
        "###accedemos a la ruta del excel"
      ],
      "metadata": {
        "id": "YT5k03-THaW9"
      }
    },
    {
      "cell_type": "code",
      "source": [
        "df = pd.read_excel('/content/drive/MyDrive/2023/delincuencia.xls')\n",
        "df.shape"
      ],
      "metadata": {
        "colab": {
          "base_uri": "https://localhost:8080/"
        },
        "id": "3xLEvn-yHeUM",
        "outputId": "12e2f1ca-b4a6-427e-8e44-639a3dc11110"
      },
      "execution_count": 40,
      "outputs": [
        {
          "output_type": "execute_result",
          "data": {
            "text/plain": [
              "(31764, 10)"
            ]
          },
          "metadata": {},
          "execution_count": 40
        }
      ]
    },
    {
      "cell_type": "code",
      "source": [
        "NewMes = []\n",
        "for item in df.MES:\n",
        "  if item == 'ene':\n",
        "    NewMes.append(1)\n",
        "  elif item == 'feb':\n",
        "    NewMes.append(2)\n",
        "  elif item == 'mar':\n",
        "    NewMes.append(3)\n",
        "  elif item == 'abr':\n",
        "    NewMes.append(4)\n",
        "  elif item == 'may':\n",
        "    NewMes.append(5)\n",
        "  elif item == 'jun':\n",
        "    NewMes.append(6)\n",
        "  elif item == 'jul':\n",
        "    NewMes.append(7)\n",
        "  elif item == 'ago':\n",
        "    NewMes.append(8)\n",
        "  elif item == 'sep':\n",
        "    NewMes.append(9)\n",
        "  elif item == 'oct':\n",
        "    NewMes.append(10)\n",
        "  elif item == 'nov':\n",
        "    NewMes.append(11)\n",
        "  elif item == 'dic':\n",
        "    NewMes.append(12)\n",
        "  else:\n",
        "    NewMes.append(0)\n",
        " \n",
        "    \n",
        "\n",
        "df['NewMes'] = NewMes\n",
        "df"
      ],
      "metadata": {
        "id": "oyCJgFLYfXWP",
        "outputId": "31fe1e78-a6bc-474c-e7fe-e605beb6a6c9",
        "colab": {
          "base_uri": "https://localhost:8080/",
          "height": 730
        }
      },
      "execution_count": 50,
      "outputs": [
        {
          "output_type": "execute_result",
          "data": {
            "text/plain": [
              "         MUNICIPIO_HECHO    AÑO    MES INTERVALOS_HORA DIA_SEMANA  \\\n",
              "0      BARRANQUILLA (CT)   2021    ene   12:00 - 17:59  Miércoles   \n",
              "1      BARRANQUILLA (CT)   2021    ene   06:00 - 11:59      Lunes   \n",
              "2      BARRANQUILLA (CT)   2021    feb   18:00 - 23:59     Sábado   \n",
              "3      BARRANQUILLA (CT)   2021    may   00:00 - 05:59  Miércoles   \n",
              "4      BARRANQUILLA (CT)   2021    may   18:00 - 23:59  Miércoles   \n",
              "...                  ...    ...    ...             ...        ...   \n",
              "31759  BARRANQUILLA (CT)   2019    nov   18:00 - 23:59  Miércoles   \n",
              "31760  BARRANQUILLA (CT)   2019    ene   06:00 - 11:59  Miércoles   \n",
              "31761  BARRANQUILLA (CT)   2019    sep   18:00 - 23:59     Jueves   \n",
              "31762  BARRANQUILLA (CT)   2019    ene   18:00 - 23:59  Miércoles   \n",
              "31763              TOTAL  TOTAL  TOTAL           TOTAL      TOTAL   \n",
              "\n",
              "             BARRIOS_HECHO          DESCRIPCION_CONDUCTA  \\\n",
              "0                1 DE MAYO  ARTÍCULO 239. HURTO PERSONAS   \n",
              "1               7 DE ABRIL  ARTÍCULO 239. HURTO PERSONAS   \n",
              "2               7 DE ABRIL  ARTÍCULO 239. HURTO PERSONAS   \n",
              "3               7 DE ABRIL  ARTÍCULO 239. HURTO PERSONAS   \n",
              "4               7 DE ABRIL  ARTÍCULO 239. HURTO PERSONAS   \n",
              "...                    ...                           ...   \n",
              "31759  VILLA SAN PEDRO III  ARTÍCULO 239. HURTO PERSONAS   \n",
              "31760         VILLA SANTOS  ARTÍCULO 239. HURTO PERSONAS   \n",
              "31761         VILLA SANTOS  ARTÍCULO 239. HURTO PERSONAS   \n",
              "31762        VISTA HERMOSA  ARTÍCULO 239. HURTO PERSONAS   \n",
              "31763                TOTAL                         TOTAL   \n",
              "\n",
              "                      ARMAS_MEDIOS MODALIDAD  \\\n",
              "0      ARMA BLANCA / CORTOPUNZANTE    ATRACO   \n",
              "1      ARMA BLANCA / CORTOPUNZANTE    ATRACO   \n",
              "2      ARMA BLANCA / CORTOPUNZANTE    ATRACO   \n",
              "3      ARMA BLANCA / CORTOPUNZANTE    ATRACO   \n",
              "4      ARMA BLANCA / CORTOPUNZANTE    ATRACO   \n",
              "...                            ...       ...   \n",
              "31759          SIN EMPLEO DE ARMAS    ATRACO   \n",
              "31760          SIN EMPLEO DE ARMAS    ATRACO   \n",
              "31761          SIN EMPLEO DE ARMAS    ATRACO   \n",
              "31762          SIN EMPLEO DE ARMAS    ATRACO   \n",
              "31763                        TOTAL     TOTAL   \n",
              "\n",
              "       Hurto Personas/ HechosDEL 01/01/2018 AL 27/12/2022  NewMes  \n",
              "0                                                      1        1  \n",
              "1                                                      1        1  \n",
              "2                                                      1        2  \n",
              "3                                                      1        5  \n",
              "4                                                      1        5  \n",
              "...                                                  ...      ...  \n",
              "31759                                                  1       11  \n",
              "31760                                                  1        1  \n",
              "31761                                                  1        9  \n",
              "31762                                                  1        1  \n",
              "31763                                              35700        0  \n",
              "\n",
              "[31764 rows x 11 columns]"
            ],
            "text/html": [
              "\n",
              "  <div id=\"df-f62f0491-4b74-490c-964f-54638960c984\">\n",
              "    <div class=\"colab-df-container\">\n",
              "      <div>\n",
              "<style scoped>\n",
              "    .dataframe tbody tr th:only-of-type {\n",
              "        vertical-align: middle;\n",
              "    }\n",
              "\n",
              "    .dataframe tbody tr th {\n",
              "        vertical-align: top;\n",
              "    }\n",
              "\n",
              "    .dataframe thead th {\n",
              "        text-align: right;\n",
              "    }\n",
              "</style>\n",
              "<table border=\"1\" class=\"dataframe\">\n",
              "  <thead>\n",
              "    <tr style=\"text-align: right;\">\n",
              "      <th></th>\n",
              "      <th>MUNICIPIO_HECHO</th>\n",
              "      <th>AÑO</th>\n",
              "      <th>MES</th>\n",
              "      <th>INTERVALOS_HORA</th>\n",
              "      <th>DIA_SEMANA</th>\n",
              "      <th>BARRIOS_HECHO</th>\n",
              "      <th>DESCRIPCION_CONDUCTA</th>\n",
              "      <th>ARMAS_MEDIOS</th>\n",
              "      <th>MODALIDAD</th>\n",
              "      <th>Hurto Personas/ HechosDEL 01/01/2018 AL 27/12/2022</th>\n",
              "      <th>NewMes</th>\n",
              "    </tr>\n",
              "  </thead>\n",
              "  <tbody>\n",
              "    <tr>\n",
              "      <th>0</th>\n",
              "      <td>BARRANQUILLA (CT)</td>\n",
              "      <td>2021</td>\n",
              "      <td>ene</td>\n",
              "      <td>12:00 - 17:59</td>\n",
              "      <td>Miércoles</td>\n",
              "      <td>1 DE MAYO</td>\n",
              "      <td>ARTÍCULO 239. HURTO PERSONAS</td>\n",
              "      <td>ARMA BLANCA / CORTOPUNZANTE</td>\n",
              "      <td>ATRACO</td>\n",
              "      <td>1</td>\n",
              "      <td>1</td>\n",
              "    </tr>\n",
              "    <tr>\n",
              "      <th>1</th>\n",
              "      <td>BARRANQUILLA (CT)</td>\n",
              "      <td>2021</td>\n",
              "      <td>ene</td>\n",
              "      <td>06:00 - 11:59</td>\n",
              "      <td>Lunes</td>\n",
              "      <td>7 DE ABRIL</td>\n",
              "      <td>ARTÍCULO 239. HURTO PERSONAS</td>\n",
              "      <td>ARMA BLANCA / CORTOPUNZANTE</td>\n",
              "      <td>ATRACO</td>\n",
              "      <td>1</td>\n",
              "      <td>1</td>\n",
              "    </tr>\n",
              "    <tr>\n",
              "      <th>2</th>\n",
              "      <td>BARRANQUILLA (CT)</td>\n",
              "      <td>2021</td>\n",
              "      <td>feb</td>\n",
              "      <td>18:00 - 23:59</td>\n",
              "      <td>Sábado</td>\n",
              "      <td>7 DE ABRIL</td>\n",
              "      <td>ARTÍCULO 239. HURTO PERSONAS</td>\n",
              "      <td>ARMA BLANCA / CORTOPUNZANTE</td>\n",
              "      <td>ATRACO</td>\n",
              "      <td>1</td>\n",
              "      <td>2</td>\n",
              "    </tr>\n",
              "    <tr>\n",
              "      <th>3</th>\n",
              "      <td>BARRANQUILLA (CT)</td>\n",
              "      <td>2021</td>\n",
              "      <td>may</td>\n",
              "      <td>00:00 - 05:59</td>\n",
              "      <td>Miércoles</td>\n",
              "      <td>7 DE ABRIL</td>\n",
              "      <td>ARTÍCULO 239. HURTO PERSONAS</td>\n",
              "      <td>ARMA BLANCA / CORTOPUNZANTE</td>\n",
              "      <td>ATRACO</td>\n",
              "      <td>1</td>\n",
              "      <td>5</td>\n",
              "    </tr>\n",
              "    <tr>\n",
              "      <th>4</th>\n",
              "      <td>BARRANQUILLA (CT)</td>\n",
              "      <td>2021</td>\n",
              "      <td>may</td>\n",
              "      <td>18:00 - 23:59</td>\n",
              "      <td>Miércoles</td>\n",
              "      <td>7 DE ABRIL</td>\n",
              "      <td>ARTÍCULO 239. HURTO PERSONAS</td>\n",
              "      <td>ARMA BLANCA / CORTOPUNZANTE</td>\n",
              "      <td>ATRACO</td>\n",
              "      <td>1</td>\n",
              "      <td>5</td>\n",
              "    </tr>\n",
              "    <tr>\n",
              "      <th>...</th>\n",
              "      <td>...</td>\n",
              "      <td>...</td>\n",
              "      <td>...</td>\n",
              "      <td>...</td>\n",
              "      <td>...</td>\n",
              "      <td>...</td>\n",
              "      <td>...</td>\n",
              "      <td>...</td>\n",
              "      <td>...</td>\n",
              "      <td>...</td>\n",
              "      <td>...</td>\n",
              "    </tr>\n",
              "    <tr>\n",
              "      <th>31759</th>\n",
              "      <td>BARRANQUILLA (CT)</td>\n",
              "      <td>2019</td>\n",
              "      <td>nov</td>\n",
              "      <td>18:00 - 23:59</td>\n",
              "      <td>Miércoles</td>\n",
              "      <td>VILLA SAN PEDRO III</td>\n",
              "      <td>ARTÍCULO 239. HURTO PERSONAS</td>\n",
              "      <td>SIN EMPLEO DE ARMAS</td>\n",
              "      <td>ATRACO</td>\n",
              "      <td>1</td>\n",
              "      <td>11</td>\n",
              "    </tr>\n",
              "    <tr>\n",
              "      <th>31760</th>\n",
              "      <td>BARRANQUILLA (CT)</td>\n",
              "      <td>2019</td>\n",
              "      <td>ene</td>\n",
              "      <td>06:00 - 11:59</td>\n",
              "      <td>Miércoles</td>\n",
              "      <td>VILLA SANTOS</td>\n",
              "      <td>ARTÍCULO 239. HURTO PERSONAS</td>\n",
              "      <td>SIN EMPLEO DE ARMAS</td>\n",
              "      <td>ATRACO</td>\n",
              "      <td>1</td>\n",
              "      <td>1</td>\n",
              "    </tr>\n",
              "    <tr>\n",
              "      <th>31761</th>\n",
              "      <td>BARRANQUILLA (CT)</td>\n",
              "      <td>2019</td>\n",
              "      <td>sep</td>\n",
              "      <td>18:00 - 23:59</td>\n",
              "      <td>Jueves</td>\n",
              "      <td>VILLA SANTOS</td>\n",
              "      <td>ARTÍCULO 239. HURTO PERSONAS</td>\n",
              "      <td>SIN EMPLEO DE ARMAS</td>\n",
              "      <td>ATRACO</td>\n",
              "      <td>1</td>\n",
              "      <td>9</td>\n",
              "    </tr>\n",
              "    <tr>\n",
              "      <th>31762</th>\n",
              "      <td>BARRANQUILLA (CT)</td>\n",
              "      <td>2019</td>\n",
              "      <td>ene</td>\n",
              "      <td>18:00 - 23:59</td>\n",
              "      <td>Miércoles</td>\n",
              "      <td>VISTA HERMOSA</td>\n",
              "      <td>ARTÍCULO 239. HURTO PERSONAS</td>\n",
              "      <td>SIN EMPLEO DE ARMAS</td>\n",
              "      <td>ATRACO</td>\n",
              "      <td>1</td>\n",
              "      <td>1</td>\n",
              "    </tr>\n",
              "    <tr>\n",
              "      <th>31763</th>\n",
              "      <td>TOTAL</td>\n",
              "      <td>TOTAL</td>\n",
              "      <td>TOTAL</td>\n",
              "      <td>TOTAL</td>\n",
              "      <td>TOTAL</td>\n",
              "      <td>TOTAL</td>\n",
              "      <td>TOTAL</td>\n",
              "      <td>TOTAL</td>\n",
              "      <td>TOTAL</td>\n",
              "      <td>35700</td>\n",
              "      <td>0</td>\n",
              "    </tr>\n",
              "  </tbody>\n",
              "</table>\n",
              "<p>31764 rows × 11 columns</p>\n",
              "</div>\n",
              "      <button class=\"colab-df-convert\" onclick=\"convertToInteractive('df-f62f0491-4b74-490c-964f-54638960c984')\"\n",
              "              title=\"Convert this dataframe to an interactive table.\"\n",
              "              style=\"display:none;\">\n",
              "        \n",
              "  <svg xmlns=\"http://www.w3.org/2000/svg\" height=\"24px\"viewBox=\"0 0 24 24\"\n",
              "       width=\"24px\">\n",
              "    <path d=\"M0 0h24v24H0V0z\" fill=\"none\"/>\n",
              "    <path d=\"M18.56 5.44l.94 2.06.94-2.06 2.06-.94-2.06-.94-.94-2.06-.94 2.06-2.06.94zm-11 1L8.5 8.5l.94-2.06 2.06-.94-2.06-.94L8.5 2.5l-.94 2.06-2.06.94zm10 10l.94 2.06.94-2.06 2.06-.94-2.06-.94-.94-2.06-.94 2.06-2.06.94z\"/><path d=\"M17.41 7.96l-1.37-1.37c-.4-.4-.92-.59-1.43-.59-.52 0-1.04.2-1.43.59L10.3 9.45l-7.72 7.72c-.78.78-.78 2.05 0 2.83L4 21.41c.39.39.9.59 1.41.59.51 0 1.02-.2 1.41-.59l7.78-7.78 2.81-2.81c.8-.78.8-2.07 0-2.86zM5.41 20L4 18.59l7.72-7.72 1.47 1.35L5.41 20z\"/>\n",
              "  </svg>\n",
              "      </button>\n",
              "      \n",
              "  <style>\n",
              "    .colab-df-container {\n",
              "      display:flex;\n",
              "      flex-wrap:wrap;\n",
              "      gap: 12px;\n",
              "    }\n",
              "\n",
              "    .colab-df-convert {\n",
              "      background-color: #E8F0FE;\n",
              "      border: none;\n",
              "      border-radius: 50%;\n",
              "      cursor: pointer;\n",
              "      display: none;\n",
              "      fill: #1967D2;\n",
              "      height: 32px;\n",
              "      padding: 0 0 0 0;\n",
              "      width: 32px;\n",
              "    }\n",
              "\n",
              "    .colab-df-convert:hover {\n",
              "      background-color: #E2EBFA;\n",
              "      box-shadow: 0px 1px 2px rgba(60, 64, 67, 0.3), 0px 1px 3px 1px rgba(60, 64, 67, 0.15);\n",
              "      fill: #174EA6;\n",
              "    }\n",
              "\n",
              "    [theme=dark] .colab-df-convert {\n",
              "      background-color: #3B4455;\n",
              "      fill: #D2E3FC;\n",
              "    }\n",
              "\n",
              "    [theme=dark] .colab-df-convert:hover {\n",
              "      background-color: #434B5C;\n",
              "      box-shadow: 0px 1px 3px 1px rgba(0, 0, 0, 0.15);\n",
              "      filter: drop-shadow(0px 1px 2px rgba(0, 0, 0, 0.3));\n",
              "      fill: #FFFFFF;\n",
              "    }\n",
              "  </style>\n",
              "\n",
              "      <script>\n",
              "        const buttonEl =\n",
              "          document.querySelector('#df-f62f0491-4b74-490c-964f-54638960c984 button.colab-df-convert');\n",
              "        buttonEl.style.display =\n",
              "          google.colab.kernel.accessAllowed ? 'block' : 'none';\n",
              "\n",
              "        async function convertToInteractive(key) {\n",
              "          const element = document.querySelector('#df-f62f0491-4b74-490c-964f-54638960c984');\n",
              "          const dataTable =\n",
              "            await google.colab.kernel.invokeFunction('convertToInteractive',\n",
              "                                                     [key], {});\n",
              "          if (!dataTable) return;\n",
              "\n",
              "          const docLinkHtml = 'Like what you see? Visit the ' +\n",
              "            '<a target=\"_blank\" href=https://colab.research.google.com/notebooks/data_table.ipynb>data table notebook</a>'\n",
              "            + ' to learn more about interactive tables.';\n",
              "          element.innerHTML = '';\n",
              "          dataTable['output_type'] = 'display_data';\n",
              "          await google.colab.output.renderOutput(dataTable, element);\n",
              "          const docLink = document.createElement('div');\n",
              "          docLink.innerHTML = docLinkHtml;\n",
              "          element.appendChild(docLink);\n",
              "        }\n",
              "      </script>\n",
              "    </div>\n",
              "  </div>\n",
              "  "
            ]
          },
          "metadata": {},
          "execution_count": 50
        }
      ]
    },
    {
      "cell_type": "markdown",
      "source": [
        "###dividimos el dataframe por segmentos"
      ],
      "metadata": {
        "id": "SR4R3OG0da6E"
      }
    },
    {
      "cell_type": "code",
      "source": [
        "df_2018 = df[df['AÑO']==\"2018\"]\n",
        "df_2019 = df[df['AÑO']==\"2019\"].sort_values('NewMes')\n",
        "df_2020 = df[df['AÑO']==\"2020\"].sort_values('NewMes')\n",
        "df_2021 = df[df['AÑO']==\"2021\"].sort_values('NewMes')\n",
        "df_2022 = df[df['AÑO']==\"2022\"].sort_values('NewMes')\n",
        "#organizamos por mes enero hasta diciembre\n",
        "df_2018 = df_2018.sort_values('NewMes')\n",
        "df_2019 = df_2019.sort_values('NewMes')\n",
        "df_2020 = df_2020.sort_values('NewMes')\n",
        "df_2021 = df_2021.sort_values('NewMes')\n",
        "df_2022 = df_2022.sort_values('NewMes')"
      ],
      "metadata": {
        "id": "7s2jBdeddj9N"
      },
      "execution_count": 68,
      "outputs": []
    },
    {
      "cell_type": "markdown",
      "source": [
        "### sacamos la suma de los datos según los Meses"
      ],
      "metadata": {
        "id": "V52ABgtVhk5d"
      }
    },
    {
      "cell_type": "code",
      "source": [
        "SUMADF2018 = df_2018.groupby('MES').sum()\n",
        "SUMADF2018 = SUMADF2018['Hurto Personas/ HechosDEL 01/01/2018 AL 27/12/2022']\n",
        "SUMADF2018"
      ],
      "metadata": {
        "id": "ErNt5J5Ghrfh",
        "outputId": "1fb020b9-0e1d-4ba3-c05a-2e268a741db9",
        "colab": {
          "base_uri": "https://localhost:8080/"
        }
      },
      "execution_count": 62,
      "outputs": [
        {
          "output_type": "execute_result",
          "data": {
            "text/plain": [
              "MES\n",
              "abr    528\n",
              "ago    520\n",
              "dic    561\n",
              "ene    393\n",
              "feb    486\n",
              "jul    527\n",
              "jun    516\n",
              "mar    483\n",
              "may    583\n",
              "nov    628\n",
              "oct    589\n",
              "sep    492\n",
              "Name: Hurto Personas/ HechosDEL 01/01/2018 AL 27/12/2022, dtype: int64"
            ]
          },
          "metadata": {},
          "execution_count": 62
        }
      ]
    },
    {
      "cell_type": "code",
      "source": [
        "\n",
        "labels = ['Ene', 'Feb', 'Mar', 'Abr', 'May','Jun', 'Jul', 'Ago', 'Sep','Oct','Nov','Dic']\n",
        "ListDF2018 = list(SUMADF2018)\n",
        "\n",
        "ListDF2019 = [25, 32, 34, 20, 25]\n",
        "\n",
        "x = np.arange(len(labels))  # the label locations\n",
        "width = 0.35  # the width of the bars\n",
        "\n",
        "fig, ax = plt.subplots()\n",
        "rects1 = ax.bar(x - width/2, men_means, width, label='Men')\n",
        "rects2 = ax.bar(x + width/2, women_means, width, label='Women')\n",
        "\n",
        "# Add some text for labels, title and custom x-axis tick labels, etc.\n",
        "ax.set_ylabel('Scores')\n",
        "ax.set_title('Scores by group and gender')\n",
        "ax.set_xticks(x)\n",
        "ax.set_xticklabels(labels)\n",
        "ax.legend()\n",
        "\n",
        "\n",
        "def autolabel(rects):\n",
        "    \"\"\"Attach a text label above each bar in *rects*, displaying its height.\"\"\"\n",
        "    for rect in rects:\n",
        "        height = rect.get_height()\n",
        "        ax.annotate('{}'.format(height),\n",
        "                    xy=(rect.get_x() + rect.get_width() / 2, height),\n",
        "                    xytext=(0, 3),  # 3 points vertical offset\n",
        "                    textcoords=\"offset points\",\n",
        "                    ha='center', va='bottom')\n",
        "\n",
        "\n",
        "autolabel(rects1)\n",
        "autolabel(rects2)\n",
        "\n",
        "fig.tight_layout()\n",
        "\n",
        "plt.show()"
      ],
      "metadata": {
        "id": "paMPMUwqfULp",
        "outputId": "c5aa51de-f797-496a-e395-70f0ed50b934",
        "colab": {
          "base_uri": "https://localhost:8080/",
          "height": 297
        }
      },
      "execution_count": 52,
      "outputs": [
        {
          "output_type": "display_data",
          "data": {
            "text/plain": [
              "<Figure size 432x288 with 1 Axes>"
            ],
            "image/png": "[encoded data removed]"
          },
          "metadata": {
            "needs_background": "light"
          }
        }
      ]
    }
  ]
}