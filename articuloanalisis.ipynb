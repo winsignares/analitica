{
  "nbformat": 4,
  "nbformat_minor": 0,
  "metadata": {
    "colab": {
      "provenance": [],
      "authorship_tag": "ABX9TyNwm2NxjKbcqTPOB2LPfcMB",
      "include_colab_link": true
    },
    "kernelspec": {
      "name": "python3",
      "display_name": "Python 3"
    },
    "language_info": {
      "name": "python"
    }
  },
  "cells": [
    {
      "cell_type": "markdown",
      "metadata": {
        "id": "view-in-github",
        "colab_type": "text"
      },
      "source": [
        "<a href=\"https://colab.research.google.com/github/winsignares/analitica/blob/main/articuloanalisis.ipynb\" target=\"_parent\"><img src=\"https://colab.research.google.com/assets/colab-badge.svg\" alt=\"Open In Colab\"/></a>"
      ]
    },
    {
      "cell_type": "markdown",
      "source": [
        "###Alistamos nuestra herram"
      ],
      "metadata": {
        "id": "j7sg4xGWZ4MX"
      }
    },
    {
      "cell_type": "code",
      "metadata": {
        "id": "3y4dgiViXyFU"
      },
      "source": [
        "import pandas as pd"
      ],
      "execution_count": 5,
      "outputs": []
    },
    {
      "cell_type": "markdown",
      "source": [
        "###cargamos la base de datos desde google drive\n"
      ],
      "metadata": {
        "id": "tkivqisd_cye"
      }
    },
    {
      "cell_type": "code",
      "source": [
        "from google.colab import files\n",
        "from google.colab import drive\n",
        "\n",
        "drive.mount('/content/drive')"
      ],
      "metadata": {
        "colab": {
          "base_uri": "https://localhost:8080/"
        },
        "id": "wbbTo58V_j6e",
        "outputId": "2693a48b-882b-4ebb-80aa-7fc9f4c98154"
      },
      "execution_count": 2,
      "outputs": [
        {
          "output_type": "stream",
          "name": "stdout",
          "text": [
            "Mounted at /content/drive\n"
          ]
        }
      ]
    },
    {
      "cell_type": "markdown",
      "source": [
        "###accedemos a la ruta del excel"
      ],
      "metadata": {
        "id": "YT5k03-THaW9"
      }
    },
    {
      "cell_type": "code",
      "source": [
        "df = pd.read_excel('/content/drive/MyDrive/2023/delincuencia.xls')\n",
        "df.shape"
      ],
      "metadata": {
        "colab": {
          "base_uri": "https://localhost:8080/"
        },
        "id": "3xLEvn-yHeUM",
        "outputId": "27e5b137-ac14-4fce-fd10-2c3a477fad5e"
      },
      "execution_count": 8,
      "outputs": [
        {
          "output_type": "execute_result",
          "data": {
            "text/plain": [
              "(31764, 10)"
            ]
          },
          "metadata": {},
          "execution_count": 8
        }
      ]
    }
  ]
}