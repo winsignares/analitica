{
  "nbformat": 4,
  "nbformat_minor": 0,
  "metadata": {
    "colab": {
      "provenance": [],
      "mount_file_id": "https://github.com/winsignares/analitica/blob/main/articuloanalisis.ipynb",
      "authorship_tag": "ABX9TyOBJ9meyP4R5XzicDBiIPN8",
      "include_colab_link": true
    },
    "kernelspec": {
      "name": "python3",
      "display_name": "Python 3"
    },
    "language_info": {
      "name": "python"
    }
  },
  "cells": [
    {
      "cell_type": "markdown",
      "metadata": {
        "id": "view-in-github",
        "colab_type": "text"
      },
      "source": [
        "<a href=\"https://colab.research.google.com/github/winsignares/analitica/blob/main/articuloanalisis.ipynb\" target=\"_parent\"><img src=\"https://colab.research.google.com/assets/colab-badge.svg\" alt=\"Open In Colab\"/></a>"
      ]
    },
    {
      "cell_type": "markdown",
      "source": [
        "###Alistamos nuestra herram"
      ],
      "metadata": {
        "id": "j7sg4xGWZ4MX"
      }
    },
    {
      "cell_type": "code",
      "metadata": {
        "id": "3y4dgiViXyFU"
      },
      "source": [
        "import pandas as pd\n",
        "import matplotlib.pyplot as plt\n",
        "import numpy as np\n"
      ],
      "execution_count": 1,
      "outputs": []
    },
    {
      "cell_type": "markdown",
      "source": [
        "###cargamos la base de datos desde google drive\n"
      ],
      "metadata": {
        "id": "tkivqisd_cye"
      }
    },
    {
      "cell_type": "code",
      "source": [
        "from google.colab import files\n",
        "from google.colab import drive\n",
        "\n",
        "drive.mount('/content/drive')"
      ],
      "metadata": {
        "colab": {
          "base_uri": "https://localhost:8080/"
        },
        "id": "wbbTo58V_j6e",
        "outputId": "2433eb13-5f06-43ae-b5f5-aef4af5a79d8"
      },
      "execution_count": 5,
      "outputs": [
        {
          "output_type": "stream",
          "name": "stdout",
          "text": [
            "Drive already mounted at /content/drive; to attempt to forcibly remount, call drive.mount(\"/content/drive\", force_remount=True).\n"
          ]
        }
      ]
    },
    {
      "cell_type": "markdown",
      "source": [
        "###accedemos a la ruta del excel"
      ],
      "metadata": {
        "id": "YT5k03-THaW9"
      }
    },
    {
      "cell_type": "code",
      "source": [
        "df = pd.read_excel('/content/drive/MyDrive/2023/delincuencia.xls')\n",
        "df.shape"
      ],
      "metadata": {
        "colab": {
          "base_uri": "https://localhost:8080/"
        },
        "id": "3xLEvn-yHeUM",
        "outputId": "a377342c-d5ff-4904-ccaf-ebb12c6638c5"
      },
      "execution_count": 6,
      "outputs": [
        {
          "output_type": "execute_result",
          "data": {
            "text/plain": [
              "(31764, 10)"
            ]
          },
          "metadata": {},
          "execution_count": 6
        }
      ]
    },
    {
      "cell_type": "code",
      "source": [
        "NewMes = []\n",
        "for item in df.MES:\n",
        "  if item == 'ene':\n",
        "    NewMes.append(1)\n",
        "  elif item == 'feb':\n",
        "    NewMes.append(2)\n",
        "  elif item == 'mar':\n",
        "    NewMes.append(3)\n",
        "  elif item == 'abr':\n",
        "    NewMes.append(4)\n",
        "  elif item == 'may':\n",
        "    NewMes.append(5)\n",
        "  elif item == 'jun':\n",
        "    NewMes.append(6)\n",
        "  elif item == 'jul':\n",
        "    NewMes.append(7)\n",
        "  elif item == 'ago':\n",
        "    NewMes.append(8)\n",
        "  elif item == 'sep':\n",
        "    NewMes.append(9)\n",
        "  elif item == 'oct':\n",
        "    NewMes.append(10)\n",
        "  elif item == 'nov':\n",
        "    NewMes.append(11)\n",
        "  elif item == 'dic':\n",
        "    NewMes.append(12)\n",
        "  else:\n",
        "    NewMes.append(0)\n",
        " \n",
        "    \n",
        "\n",
        "df['NewMes'] = NewMes\n",
        "df"
      ],
      "metadata": {
        "colab": {
          "base_uri": "https://localhost:8080/",
          "height": 730
        },
        "id": "oyCJgFLYfXWP",
        "outputId": "bb004bc3-ebe4-43aa-e752-b7485428897a"
      },
      "execution_count": 7,
      "outputs": [
        {
          "output_type": "execute_result",
          "data": {
            "text/plain": [
              "         MUNICIPIO_HECHO    AÑO    MES INTERVALOS_HORA DIA_SEMANA  \\\n",
              "0      BARRANQUILLA (CT)   2021    ene   12:00 - 17:59  Miércoles   \n",
              "1      BARRANQUILLA (CT)   2021    ene   06:00 - 11:59      Lunes   \n",
              "2      BARRANQUILLA (CT)   2021    feb   18:00 - 23:59     Sábado   \n",
              "3      BARRANQUILLA (CT)   2021    may   00:00 - 05:59  Miércoles   \n",
              "4      BARRANQUILLA (CT)   2021    may   18:00 - 23:59  Miércoles   \n",
              "...                  ...    ...    ...             ...        ...   \n",
              "31759  BARRANQUILLA (CT)   2019    nov   18:00 - 23:59  Miércoles   \n",
              "31760  BARRANQUILLA (CT)   2019    ene   06:00 - 11:59  Miércoles   \n",
              "31761  BARRANQUILLA (CT)   2019    sep   18:00 - 23:59     Jueves   \n",
              "31762  BARRANQUILLA (CT)   2019    ene   18:00 - 23:59  Miércoles   \n",
              "31763              TOTAL  TOTAL  TOTAL           TOTAL      TOTAL   \n",
              "\n",
              "             BARRIOS_HECHO          DESCRIPCION_CONDUCTA  \\\n",
              "0                1 DE MAYO  ARTÍCULO 239. HURTO PERSONAS   \n",
              "1               7 DE ABRIL  ARTÍCULO 239. HURTO PERSONAS   \n",
              "2               7 DE ABRIL  ARTÍCULO 239. HURTO PERSONAS   \n",
              "3               7 DE ABRIL  ARTÍCULO 239. HURTO PERSONAS   \n",
              "4               7 DE ABRIL  ARTÍCULO 239. HURTO PERSONAS   \n",
              "...                    ...                           ...   \n",
              "31759  VILLA SAN PEDRO III  ARTÍCULO 239. HURTO PERSONAS   \n",
              "31760         VILLA SANTOS  ARTÍCULO 239. HURTO PERSONAS   \n",
              "31761         VILLA SANTOS  ARTÍCULO 239. HURTO PERSONAS   \n",
              "31762        VISTA HERMOSA  ARTÍCULO 239. HURTO PERSONAS   \n",
              "31763                TOTAL                         TOTAL   \n",
              "\n",
              "                      ARMAS_MEDIOS MODALIDAD  \\\n",
              "0      ARMA BLANCA / CORTOPUNZANTE    ATRACO   \n",
              "1      ARMA BLANCA / CORTOPUNZANTE    ATRACO   \n",
              "2      ARMA BLANCA / CORTOPUNZANTE    ATRACO   \n",
              "3      ARMA BLANCA / CORTOPUNZANTE    ATRACO   \n",
              "4      ARMA BLANCA / CORTOPUNZANTE    ATRACO   \n",
              "...                            ...       ...   \n",
              "31759          SIN EMPLEO DE ARMAS    ATRACO   \n",
              "31760          SIN EMPLEO DE ARMAS    ATRACO   \n",
              "31761          SIN EMPLEO DE ARMAS    ATRACO   \n",
              "31762          SIN EMPLEO DE ARMAS    ATRACO   \n",
              "31763                        TOTAL     TOTAL   \n",
              "\n",
              "       Hurto Personas/ HechosDEL 01/01/2018 AL 27/12/2022  NewMes  \n",
              "0                                                      1        1  \n",
              "1                                                      1        1  \n",
              "2                                                      1        2  \n",
              "3                                                      1        5  \n",
              "4                                                      1        5  \n",
              "...                                                  ...      ...  \n",
              "31759                                                  1       11  \n",
              "31760                                                  1        1  \n",
              "31761                                                  1        9  \n",
              "31762                                                  1        1  \n",
              "31763                                              35700        0  \n",
              "\n",
              "[31764 rows x 11 columns]"
            ],
            "text/html": [
              "\n",
              "  <div id=\"df-5b2f2488-df29-4bbb-a240-552763f0bfee\">\n",
              "    <div class=\"colab-df-container\">\n",
              "      <div>\n",
              "<style scoped>\n",
              "    .dataframe tbody tr th:only-of-type {\n",
              "        vertical-align: middle;\n",
              "    }\n",
              "\n",
              "    .dataframe tbody tr th {\n",
              "        vertical-align: top;\n",
              "    }\n",
              "\n",
              "    .dataframe thead th {\n",
              "        text-align: right;\n",
              "    }\n",
              "</style>\n",
              "<table border=\"1\" class=\"dataframe\">\n",
              "  <thead>\n",
              "    <tr style=\"text-align: right;\">\n",
              "      <th></th>\n",
              "      <th>MUNICIPIO_HECHO</th>\n",
              "      <th>AÑO</th>\n",
              "      <th>MES</th>\n",
              "      <th>INTERVALOS_HORA</th>\n",
              "      <th>DIA_SEMANA</th>\n",
              "      <th>BARRIOS_HECHO</th>\n",
              "      <th>DESCRIPCION_CONDUCTA</th>\n",
              "      <th>ARMAS_MEDIOS</th>\n",
              "      <th>MODALIDAD</th>\n",
              "      <th>Hurto Personas/ HechosDEL 01/01/2018 AL 27/12/2022</th>\n",
              "      <th>NewMes</th>\n",
              "    </tr>\n",
              "  </thead>\n",
              "  <tbody>\n",
              "    <tr>\n",
              "      <th>0</th>\n",
              "      <td>BARRANQUILLA (CT)</td>\n",
              "      <td>2021</td>\n",
              "      <td>ene</td>\n",
              "      <td>12:00 - 17:59</td>\n",
              "      <td>Miércoles</td>\n",
              "      <td>1 DE MAYO</td>\n",
              "      <td>ARTÍCULO 239. HURTO PERSONAS</td>\n",
              "      <td>ARMA BLANCA / CORTOPUNZANTE</td>\n",
              "      <td>ATRACO</td>\n",
              "      <td>1</td>\n",
              "      <td>1</td>\n",
              "    </tr>\n",
              "    <tr>\n",
              "      <th>1</th>\n",
              "      <td>BARRANQUILLA (CT)</td>\n",
              "      <td>2021</td>\n",
              "      <td>ene</td>\n",
              "      <td>06:00 - 11:59</td>\n",
              "      <td>Lunes</td>\n",
              "      <td>7 DE ABRIL</td>\n",
              "      <td>ARTÍCULO 239. HURTO PERSONAS</td>\n",
              "      <td>ARMA BLANCA / CORTOPUNZANTE</td>\n",
              "      <td>ATRACO</td>\n",
              "      <td>1</td>\n",
              "      <td>1</td>\n",
              "    </tr>\n",
              "    <tr>\n",
              "      <th>2</th>\n",
              "      <td>BARRANQUILLA (CT)</td>\n",
              "      <td>2021</td>\n",
              "      <td>feb</td>\n",
              "      <td>18:00 - 23:59</td>\n",
              "      <td>Sábado</td>\n",
              "      <td>7 DE ABRIL</td>\n",
              "      <td>ARTÍCULO 239. HURTO PERSONAS</td>\n",
              "      <td>ARMA BLANCA / CORTOPUNZANTE</td>\n",
              "      <td>ATRACO</td>\n",
              "      <td>1</td>\n",
              "      <td>2</td>\n",
              "    </tr>\n",
              "    <tr>\n",
              "      <th>3</th>\n",
              "      <td>BARRANQUILLA (CT)</td>\n",
              "      <td>2021</td>\n",
              "      <td>may</td>\n",
              "      <td>00:00 - 05:59</td>\n",
              "      <td>Miércoles</td>\n",
              "      <td>7 DE ABRIL</td>\n",
              "      <td>ARTÍCULO 239. HURTO PERSONAS</td>\n",
              "      <td>ARMA BLANCA / CORTOPUNZANTE</td>\n",
              "      <td>ATRACO</td>\n",
              "      <td>1</td>\n",
              "      <td>5</td>\n",
              "    </tr>\n",
              "    <tr>\n",
              "      <th>4</th>\n",
              "      <td>BARRANQUILLA (CT)</td>\n",
              "      <td>2021</td>\n",
              "      <td>may</td>\n",
              "      <td>18:00 - 23:59</td>\n",
              "      <td>Miércoles</td>\n",
              "      <td>7 DE ABRIL</td>\n",
              "      <td>ARTÍCULO 239. HURTO PERSONAS</td>\n",
              "      <td>ARMA BLANCA / CORTOPUNZANTE</td>\n",
              "      <td>ATRACO</td>\n",
              "      <td>1</td>\n",
              "      <td>5</td>\n",
              "    </tr>\n",
              "    <tr>\n",
              "      <th>...</th>\n",
              "      <td>...</td>\n",
              "      <td>...</td>\n",
              "      <td>...</td>\n",
              "      <td>...</td>\n",
              "      <td>...</td>\n",
              "      <td>...</td>\n",
              "      <td>...</td>\n",
              "      <td>...</td>\n",
              "      <td>...</td>\n",
              "      <td>...</td>\n",
              "      <td>...</td>\n",
              "    </tr>\n",
              "    <tr>\n",
              "      <th>31759</th>\n",
              "      <td>BARRANQUILLA (CT)</td>\n",
              "      <td>2019</td>\n",
              "      <td>nov</td>\n",
              "      <td>18:00 - 23:59</td>\n",
              "      <td>Miércoles</td>\n",
              "      <td>VILLA SAN PEDRO III</td>\n",
              "      <td>ARTÍCULO 239. HURTO PERSONAS</td>\n",
              "      <td>SIN EMPLEO DE ARMAS</td>\n",
              "      <td>ATRACO</td>\n",
              "      <td>1</td>\n",
              "      <td>11</td>\n",
              "    </tr>\n",
              "    <tr>\n",
              "      <th>31760</th>\n",
              "      <td>BARRANQUILLA (CT)</td>\n",
              "      <td>2019</td>\n",
              "      <td>ene</td>\n",
              "      <td>06:00 - 11:59</td>\n",
              "      <td>Miércoles</td>\n",
              "      <td>VILLA SANTOS</td>\n",
              "      <td>ARTÍCULO 239. HURTO PERSONAS</td>\n",
              "      <td>SIN EMPLEO DE ARMAS</td>\n",
              "      <td>ATRACO</td>\n",
              "      <td>1</td>\n",
              "      <td>1</td>\n",
              "    </tr>\n",
              "    <tr>\n",
              "      <th>31761</th>\n",
              "      <td>BARRANQUILLA (CT)</td>\n",
              "      <td>2019</td>\n",
              "      <td>sep</td>\n",
              "      <td>18:00 - 23:59</td>\n",
              "      <td>Jueves</td>\n",
              "      <td>VILLA SANTOS</td>\n",
              "      <td>ARTÍCULO 239. HURTO PERSONAS</td>\n",
              "      <td>SIN EMPLEO DE ARMAS</td>\n",
              "      <td>ATRACO</td>\n",
              "      <td>1</td>\n",
              "      <td>9</td>\n",
              "    </tr>\n",
              "    <tr>\n",
              "      <th>31762</th>\n",
              "      <td>BARRANQUILLA (CT)</td>\n",
              "      <td>2019</td>\n",
              "      <td>ene</td>\n",
              "      <td>18:00 - 23:59</td>\n",
              "      <td>Miércoles</td>\n",
              "      <td>VISTA HERMOSA</td>\n",
              "      <td>ARTÍCULO 239. HURTO PERSONAS</td>\n",
              "      <td>SIN EMPLEO DE ARMAS</td>\n",
              "      <td>ATRACO</td>\n",
              "      <td>1</td>\n",
              "      <td>1</td>\n",
              "    </tr>\n",
              "    <tr>\n",
              "      <th>31763</th>\n",
              "      <td>TOTAL</td>\n",
              "      <td>TOTAL</td>\n",
              "      <td>TOTAL</td>\n",
              "      <td>TOTAL</td>\n",
              "      <td>TOTAL</td>\n",
              "      <td>TOTAL</td>\n",
              "      <td>TOTAL</td>\n",
              "      <td>TOTAL</td>\n",
              "      <td>TOTAL</td>\n",
              "      <td>35700</td>\n",
              "      <td>0</td>\n",
              "    </tr>\n",
              "  </tbody>\n",
              "</table>\n",
              "<p>31764 rows × 11 columns</p>\n",
              "</div>\n",
              "      <button class=\"colab-df-convert\" onclick=\"convertToInteractive('df-5b2f2488-df29-4bbb-a240-552763f0bfee')\"\n",
              "              title=\"Convert this dataframe to an interactive table.\"\n",
              "              style=\"display:none;\">\n",
              "        \n",
              "  <svg xmlns=\"http://www.w3.org/2000/svg\" height=\"24px\"viewBox=\"0 0 24 24\"\n",
              "       width=\"24px\">\n",
              "    <path d=\"M0 0h24v24H0V0z\" fill=\"none\"/>\n",
              "    <path d=\"M18.56 5.44l.94 2.06.94-2.06 2.06-.94-2.06-.94-.94-2.06-.94 2.06-2.06.94zm-11 1L8.5 8.5l.94-2.06 2.06-.94-2.06-.94L8.5 2.5l-.94 2.06-2.06.94zm10 10l.94 2.06.94-2.06 2.06-.94-2.06-.94-.94-2.06-.94 2.06-2.06.94z\"/><path d=\"M17.41 7.96l-1.37-1.37c-.4-.4-.92-.59-1.43-.59-.52 0-1.04.2-1.43.59L10.3 9.45l-7.72 7.72c-.78.78-.78 2.05 0 2.83L4 21.41c.39.39.9.59 1.41.59.51 0 1.02-.2 1.41-.59l7.78-7.78 2.81-2.81c.8-.78.8-2.07 0-2.86zM5.41 20L4 18.59l7.72-7.72 1.47 1.35L5.41 20z\"/>\n",
              "  </svg>\n",
              "      </button>\n",
              "      \n",
              "  <style>\n",
              "    .colab-df-container {\n",
              "      display:flex;\n",
              "      flex-wrap:wrap;\n",
              "      gap: 12px;\n",
              "    }\n",
              "\n",
              "    .colab-df-convert {\n",
              "      background-color: #E8F0FE;\n",
              "      border: none;\n",
              "      border-radius: 50%;\n",
              "      cursor: pointer;\n",
              "      display: none;\n",
              "      fill: #1967D2;\n",
              "      height: 32px;\n",
              "      padding: 0 0 0 0;\n",
              "      width: 32px;\n",
              "    }\n",
              "\n",
              "    .colab-df-convert:hover {\n",
              "      background-color: #E2EBFA;\n",
              "      box-shadow: 0px 1px 2px rgba(60, 64, 67, 0.3), 0px 1px 3px 1px rgba(60, 64, 67, 0.15);\n",
              "      fill: #174EA6;\n",
              "    }\n",
              "\n",
              "    [theme=dark] .colab-df-convert {\n",
              "      background-color: #3B4455;\n",
              "      fill: #D2E3FC;\n",
              "    }\n",
              "\n",
              "    [theme=dark] .colab-df-convert:hover {\n",
              "      background-color: #434B5C;\n",
              "      box-shadow: 0px 1px 3px 1px rgba(0, 0, 0, 0.15);\n",
              "      filter: drop-shadow(0px 1px 2px rgba(0, 0, 0, 0.3));\n",
              "      fill: #FFFFFF;\n",
              "    }\n",
              "  </style>\n",
              "\n",
              "      <script>\n",
              "        const buttonEl =\n",
              "          document.querySelector('#df-5b2f2488-df29-4bbb-a240-552763f0bfee button.colab-df-convert');\n",
              "        buttonEl.style.display =\n",
              "          google.colab.kernel.accessAllowed ? 'block' : 'none';\n",
              "\n",
              "        async function convertToInteractive(key) {\n",
              "          const element = document.querySelector('#df-5b2f2488-df29-4bbb-a240-552763f0bfee');\n",
              "          const dataTable =\n",
              "            await google.colab.kernel.invokeFunction('convertToInteractive',\n",
              "                                                     [key], {});\n",
              "          if (!dataTable) return;\n",
              "\n",
              "          const docLinkHtml = 'Like what you see? Visit the ' +\n",
              "            '<a target=\"_blank\" href=https://colab.research.google.com/notebooks/data_table.ipynb>data table notebook</a>'\n",
              "            + ' to learn more about interactive tables.';\n",
              "          element.innerHTML = '';\n",
              "          dataTable['output_type'] = 'display_data';\n",
              "          await google.colab.output.renderOutput(dataTable, element);\n",
              "          const docLink = document.createElement('div');\n",
              "          docLink.innerHTML = docLinkHtml;\n",
              "          element.appendChild(docLink);\n",
              "        }\n",
              "      </script>\n",
              "    </div>\n",
              "  </div>\n",
              "  "
            ]
          },
          "metadata": {},
          "execution_count": 7
        }
      ]
    },
    {
      "cell_type": "markdown",
      "source": [
        "###dividimos el dataframe por segmentos"
      ],
      "metadata": {
        "id": "SR4R3OG0da6E"
      }
    },
    {
      "cell_type": "code",
      "source": [
        "df_2018 = df[df['AÑO']==\"2018\"]\n",
        "df_2019 = df[df['AÑO']==\"2019\"].sort_values('NewMes')\n",
        "df_2020 = df[df['AÑO']==\"2020\"].sort_values('NewMes')\n",
        "df_2021 = df[df['AÑO']==\"2021\"].sort_values('NewMes')\n",
        "df_2022 = df[df['AÑO']==\"2022\"].sort_values('NewMes')\n",
        "#organizamos por mes enero hasta diciembre\n",
        "df_2018 = df_2018.sort_values('NewMes')\n",
        "df_2019 = df_2019.sort_values('NewMes')\n",
        "df_2020 = df_2020.sort_values('NewMes')\n",
        "df_2021 = df_2021.sort_values('NewMes')\n",
        "df_2022 = df_2022.sort_values('NewMes')"
      ],
      "metadata": {
        "id": "7s2jBdeddj9N"
      },
      "execution_count": 8,
      "outputs": []
    },
    {
      "cell_type": "code",
      "source": [
        "def cantidadMes(mes, dataf):\n",
        "  i=0\n",
        "  for item in dataf.NewMes:\n",
        "    if item == mes:\n",
        "      i=i+1\n",
        "  return i\n",
        "\n",
        "def DicionarioMes(meses,dataf):\n",
        "  dicionario = {}\n",
        "  for mes in meses:\n",
        "    dicionario[mes] = cantidadMes(mes,dataf)\n",
        "  return dicionario"
      ],
      "metadata": {
        "id": "sJVymz8RqZpA"
      },
      "execution_count": 9,
      "outputs": []
    },
    {
      "cell_type": "markdown",
      "source": [
        "### sacamos la suma de los datos según los Meses"
      ],
      "metadata": {
        "id": "V52ABgtVhk5d"
      }
    },
    {
      "cell_type": "code",
      "source": [
        "SUMADF2018 = df_2018.groupby('NewMes').count()\n",
        "SUMADF2018 = SUMADF2018['Hurto Personas/ HechosDEL 01/01/2018 AL 27/12/2022']\n",
        "\n",
        "SUMADF2019 = df_2019.groupby('NewMes').count()\n",
        "SUMADF2019 = SUMADF2019['Hurto Personas/ HechosDEL 01/01/2018 AL 27/12/2022']\n",
        "\n",
        "SUMADF2020 = df_2020.groupby('NewMes').count()\n",
        "SUMADF2020 = SUMADF2020['Hurto Personas/ HechosDEL 01/01/2018 AL 27/12/2022']\n",
        "\n",
        "SUMADF2021 = df_2021.groupby('NewMes').count()\n",
        "SUMADF2021 = SUMADF2021['Hurto Personas/ HechosDEL 01/01/2018 AL 27/12/2022']\n",
        "\n",
        "SUMADF2022 = df_2022.groupby('NewMes').count()\n",
        "SUMADF2022 = SUMADF2022['Hurto Personas/ HechosDEL 01/01/2018 AL 27/12/2022']\n"
      ],
      "metadata": {
        "id": "ErNt5J5Ghrfh"
      },
      "execution_count": 10,
      "outputs": []
    },
    {
      "cell_type": "code",
      "source": [
        "SumMes2018 = DicionarioMes(df_2018.NewMes, df_2018)\n",
        "SumMes2018"
      ],
      "metadata": {
        "colab": {
          "base_uri": "https://localhost:8080/"
        },
        "id": "PyVPbsdUqmWo",
        "outputId": "482bbcab-1bf0-4eff-dc46-d970b7b7d09f"
      },
      "execution_count": 11,
      "outputs": [
        {
          "output_type": "execute_result",
          "data": {
            "text/plain": [
              "{1: 370,\n",
              " 2: 450,\n",
              " 3: 436,\n",
              " 4: 482,\n",
              " 5: 525,\n",
              " 6: 468,\n",
              " 7: 488,\n",
              " 8: 467,\n",
              " 9: 440,\n",
              " 10: 540,\n",
              " 11: 567,\n",
              " 12: 516}"
            ]
          },
          "metadata": {},
          "execution_count": 11
        }
      ]
    },
    {
      "cell_type": "markdown",
      "source": [
        "### Graficamos para el analisis de los diferentes años"
      ],
      "metadata": {
        "id": "ydMtDyb2n7LI"
      }
    },
    {
      "cell_type": "code",
      "source": [
        "\n",
        "labels = ['Ene', 'Feb', 'Mar', 'Abr', 'May','Jun', 'Jul', 'Ago', 'Sep','Oct','Nov','Dic']\n",
        "ListDF2018 = list(SUMADF2018)\n",
        "ListDF2019 = list(SUMADF2019)\n",
        "ListDF2020 = list(SUMADF2020)\n",
        "ListDF2021 = list(SUMADF2021)\n",
        "ListDF2022 = list(SUMADF2022)\n",
        "\n",
        "x = np.arange(len(labels))  # the label locations\n",
        "width = 0.22  # the width of the bars\n",
        "\n",
        "fig, ax = plt.subplots( figsize=(20,10))\n",
        "rects1 = ax.bar(x - width/2, ListDF2018, width, label='2018')\n",
        "rects2 = ax.bar(x + width/2, ListDF2019, width, label='2019')\n",
        "rects3 = ax.bar(x - (width+0.25)/2, ListDF2020, width, label='2020')\n",
        "rects4 = ax.bar(x + (width+0.35)/2, ListDF2021, width, label='2021')\n",
        "rects5 = ax.bar(x + (width+0.60)/2, ListDF2022, width, label='2022')\n",
        "\n",
        "# Add some text for labels, title and custom x-axis tick labels, etc.\n",
        "ax.set_ylabel('Incidentes')\n",
        "ax.set_title('Hurtos desde 2018 al 2022')\n",
        "ax.set_xticks(x)\n",
        "ax.set_xticklabels(labels)\n",
        "ax.legend()\n",
        "\n",
        "\n",
        "def autolabel(rects):\n",
        "    \"\"\"Attach a text label above each bar in *rects*, displaying its height.\"\"\"\n",
        "    for rect in rects:\n",
        "        height = rect.get_height()\n",
        "        ax.annotate('{}'.format(height),\n",
        "                    xy=(rect.get_x() + rect.get_width() / 2, height),\n",
        "                    xytext=(0, 3),  # 3 points vertical offset\n",
        "                    textcoords=\"offset points\",\n",
        "                    ha='center', va='bottom')\n",
        "\n",
        "\n",
        "autolabel(rects1)\n",
        "autolabel(rects2)\n",
        "autolabel(rects3)\n",
        "autolabel(rects4)\n",
        "autolabel(rects5)\n",
        "\n",
        "fig.tight_layout()\n",
        "\n",
        "plt.show()"
      ],
      "metadata": {
        "colab": {
          "base_uri": "https://localhost:8080/",
          "height": 571
        },
        "id": "paMPMUwqfULp",
        "outputId": "e78e4d34-90cd-4cc5-90fd-2fa2530d29fb"
      },
      "execution_count": 12,
      "outputs": [
        {
          "output_type": "display_data",
          "data": {
            "text/plain": [
              "<Figure size 1440x720 with 1 Axes>"
            ],
            "image/png": "[encoded data removed]"
          },
          "metadata": {
            "needs_background": "light"
          }
        }
      ]
    },
    {
      "cell_type": "markdown",
      "source": [
        "###Obtenemos la cantidad de incidentes por barrios"
      ],
      "metadata": {
        "id": "4tAdtRlQoEw2"
      }
    },
    {
      "cell_type": "code",
      "source": [
        "SUMADF2018XBARRIOS = df_2018.groupby('BARRIOS_HECHO').sum()\n",
        "SUMADF2018XBARRIOS "
      ],
      "metadata": {
        "colab": {
          "base_uri": "https://localhost:8080/",
          "height": 455
        },
        "id": "vI77NlBsvXMO",
        "outputId": "c9047375-af25-4136-ae1c-2629f565d535"
      },
      "execution_count": 13,
      "outputs": [
        {
          "output_type": "execute_result",
          "data": {
            "text/plain": [
              "                          Hurto Personas/ HechosDEL 01/01/2018 AL 27/12/2022  \\\n",
              "BARRIOS_HECHO                                                                  \n",
              "1 DE MAYO                                                                 3    \n",
              "20 DE JULIO                                                              46    \n",
              "7 DE ABRIL                                                              100    \n",
              "7 DE AGOSTO                                                              12    \n",
              "ABAJO                                                                    48    \n",
              "...                                                                     ...    \n",
              "VILLA SANTOS                                                             31    \n",
              "VILLANUEVA                                                               12    \n",
              "VILLAS DE LA CORDIALIDAD                                                  7    \n",
              "VILLATE                                                                  17    \n",
              "VISTA HERMOSA                                                            11    \n",
              "\n",
              "                          NewMes  \n",
              "BARRIOS_HECHO                     \n",
              "1 DE MAYO                     24  \n",
              "20 DE JULIO                  341  \n",
              "7 DE ABRIL                   649  \n",
              "7 DE AGOSTO                   64  \n",
              "ABAJO                        253  \n",
              "...                          ...  \n",
              "VILLA SANTOS                 186  \n",
              "VILLANUEVA                    83  \n",
              "VILLAS DE LA CORDIALIDAD      41  \n",
              "VILLATE                       68  \n",
              "VISTA HERMOSA                 82  \n",
              "\n",
              "[211 rows x 2 columns]"
            ],
            "text/html": [
              "\n",
              "  <div id=\"df-cd375019-b853-4160-ab3c-3a6ee63f333e\">\n",
              "    <div class=\"colab-df-container\">\n",
              "      <div>\n",
              "<style scoped>\n",
              "    .dataframe tbody tr th:only-of-type {\n",
              "        vertical-align: middle;\n",
              "    }\n",
              "\n",
              "    .dataframe tbody tr th {\n",
              "        vertical-align: top;\n",
              "    }\n",
              "\n",
              "    .dataframe thead th {\n",
              "        text-align: right;\n",
              "    }\n",
              "</style>\n",
              "<table border=\"1\" class=\"dataframe\">\n",
              "  <thead>\n",
              "    <tr style=\"text-align: right;\">\n",
              "      <th></th>\n",
              "      <th>Hurto Personas/ HechosDEL 01/01/2018 AL 27/12/2022</th>\n",
              "      <th>NewMes</th>\n",
              "    </tr>\n",
              "    <tr>\n",
              "      <th>BARRIOS_HECHO</th>\n",
              "      <th></th>\n",
              "      <th></th>\n",
              "    </tr>\n",
              "  </thead>\n",
              "  <tbody>\n",
              "    <tr>\n",
              "      <th>1 DE MAYO</th>\n",
              "      <td>3</td>\n",
              "      <td>24</td>\n",
              "    </tr>\n",
              "    <tr>\n",
              "      <th>20 DE JULIO</th>\n",
              "      <td>46</td>\n",
              "      <td>341</td>\n",
              "    </tr>\n",
              "    <tr>\n",
              "      <th>7 DE ABRIL</th>\n",
              "      <td>100</td>\n",
              "      <td>649</td>\n",
              "    </tr>\n",
              "    <tr>\n",
              "      <th>7 DE AGOSTO</th>\n",
              "      <td>12</td>\n",
              "      <td>64</td>\n",
              "    </tr>\n",
              "    <tr>\n",
              "      <th>ABAJO</th>\n",
              "      <td>48</td>\n",
              "      <td>253</td>\n",
              "    </tr>\n",
              "    <tr>\n",
              "      <th>...</th>\n",
              "      <td>...</td>\n",
              "      <td>...</td>\n",
              "    </tr>\n",
              "    <tr>\n",
              "      <th>VILLA SANTOS</th>\n",
              "      <td>31</td>\n",
              "      <td>186</td>\n",
              "    </tr>\n",
              "    <tr>\n",
              "      <th>VILLANUEVA</th>\n",
              "      <td>12</td>\n",
              "      <td>83</td>\n",
              "    </tr>\n",
              "    <tr>\n",
              "      <th>VILLAS DE LA CORDIALIDAD</th>\n",
              "      <td>7</td>\n",
              "      <td>41</td>\n",
              "    </tr>\n",
              "    <tr>\n",
              "      <th>VILLATE</th>\n",
              "      <td>17</td>\n",
              "      <td>68</td>\n",
              "    </tr>\n",
              "    <tr>\n",
              "      <th>VISTA HERMOSA</th>\n",
              "      <td>11</td>\n",
              "      <td>82</td>\n",
              "    </tr>\n",
              "  </tbody>\n",
              "</table>\n",
              "<p>211 rows × 2 columns</p>\n",
              "</div>\n",
              "      <button class=\"colab-df-convert\" onclick=\"convertToInteractive('df-cd375019-b853-4160-ab3c-3a6ee63f333e')\"\n",
              "              title=\"Convert this dataframe to an interactive table.\"\n",
              "              style=\"display:none;\">\n",
              "        \n",
              "  <svg xmlns=\"http://www.w3.org/2000/svg\" height=\"24px\"viewBox=\"0 0 24 24\"\n",
              "       width=\"24px\">\n",
              "    <path d=\"M0 0h24v24H0V0z\" fill=\"none\"/>\n",
              "    <path d=\"M18.56 5.44l.94 2.06.94-2.06 2.06-.94-2.06-.94-.94-2.06-.94 2.06-2.06.94zm-11 1L8.5 8.5l.94-2.06 2.06-.94-2.06-.94L8.5 2.5l-.94 2.06-2.06.94zm10 10l.94 2.06.94-2.06 2.06-.94-2.06-.94-.94-2.06-.94 2.06-2.06.94z\"/><path d=\"M17.41 7.96l-1.37-1.37c-.4-.4-.92-.59-1.43-.59-.52 0-1.04.2-1.43.59L10.3 9.45l-7.72 7.72c-.78.78-.78 2.05 0 2.83L4 21.41c.39.39.9.59 1.41.59.51 0 1.02-.2 1.41-.59l7.78-7.78 2.81-2.81c.8-.78.8-2.07 0-2.86zM5.41 20L4 18.59l7.72-7.72 1.47 1.35L5.41 20z\"/>\n",
              "  </svg>\n",
              "      </button>\n",
              "      \n",
              "  <style>\n",
              "    .colab-df-container {\n",
              "      display:flex;\n",
              "      flex-wrap:wrap;\n",
              "      gap: 12px;\n",
              "    }\n",
              "\n",
              "    .colab-df-convert {\n",
              "      background-color: #E8F0FE;\n",
              "      border: none;\n",
              "      border-radius: 50%;\n",
              "      cursor: pointer;\n",
              "      display: none;\n",
              "      fill: #1967D2;\n",
              "      height: 32px;\n",
              "      padding: 0 0 0 0;\n",
              "      width: 32px;\n",
              "    }\n",
              "\n",
              "    .colab-df-convert:hover {\n",
              "      background-color: #E2EBFA;\n",
              "      box-shadow: 0px 1px 2px rgba(60, 64, 67, 0.3), 0px 1px 3px 1px rgba(60, 64, 67, 0.15);\n",
              "      fill: #174EA6;\n",
              "    }\n",
              "\n",
              "    [theme=dark] .colab-df-convert {\n",
              "      background-color: #3B4455;\n",
              "      fill: #D2E3FC;\n",
              "    }\n",
              "\n",
              "    [theme=dark] .colab-df-convert:hover {\n",
              "      background-color: #434B5C;\n",
              "      box-shadow: 0px 1px 3px 1px rgba(0, 0, 0, 0.15);\n",
              "      filter: drop-shadow(0px 1px 2px rgba(0, 0, 0, 0.3));\n",
              "      fill: #FFFFFF;\n",
              "    }\n",
              "  </style>\n",
              "\n",
              "      <script>\n",
              "        const buttonEl =\n",
              "          document.querySelector('#df-cd375019-b853-4160-ab3c-3a6ee63f333e button.colab-df-convert');\n",
              "        buttonEl.style.display =\n",
              "          google.colab.kernel.accessAllowed ? 'block' : 'none';\n",
              "\n",
              "        async function convertToInteractive(key) {\n",
              "          const element = document.querySelector('#df-cd375019-b853-4160-ab3c-3a6ee63f333e');\n",
              "          const dataTable =\n",
              "            await google.colab.kernel.invokeFunction('convertToInteractive',\n",
              "                                                     [key], {});\n",
              "          if (!dataTable) return;\n",
              "\n",
              "          const docLinkHtml = 'Like what you see? Visit the ' +\n",
              "            '<a target=\"_blank\" href=https://colab.research.google.com/notebooks/data_table.ipynb>data table notebook</a>'\n",
              "            + ' to learn more about interactive tables.';\n",
              "          element.innerHTML = '';\n",
              "          dataTable['output_type'] = 'display_data';\n",
              "          await google.colab.output.renderOutput(dataTable, element);\n",
              "          const docLink = document.createElement('div');\n",
              "          docLink.innerHTML = docLinkHtml;\n",
              "          element.appendChild(docLink);\n",
              "        }\n",
              "      </script>\n",
              "    </div>\n",
              "  </div>\n",
              "  "
            ]
          },
          "metadata": {},
          "execution_count": 13
        }
      ]
    },
    {
      "cell_type": "markdown",
      "source": [
        "###creamos función para conocer la cantidad exacta de incidentes"
      ],
      "metadata": {
        "id": "ppkMK52Ov-EI"
      }
    },
    {
      "cell_type": "code",
      "source": [
        "import operator\n",
        "\n",
        "def cantidad(barrio, dataf):\n",
        "  i=0\n",
        "  for item in dataf.BARRIOS_HECHO:\n",
        "    if item == barrio:\n",
        "      i=i+1\n",
        "  return i\n",
        "\n",
        "\n",
        "def ordanardic(dicold):\n",
        "  newDic = {}\n",
        "  dfdic_sort = sorted(dicold.items(), key=operator.itemgetter(1), reverse=True)\n",
        "  for name in enumerate(dfdic_sort):\n",
        "    newDic[name[1][0]] = dicold[name[1][0]]\n",
        "  return newDic\n",
        "\n",
        "def Dicionario(barrios,dataf):\n",
        "  dicionario = {}\n",
        "  for barrio in barrios:\n",
        "    dicionario[barrio] = cantidad(barrio,dataf)\n",
        "  return dicionario"
      ],
      "metadata": {
        "id": "LsiYm3WbwCFM"
      },
      "execution_count": 14,
      "outputs": []
    },
    {
      "cell_type": "code",
      "source": [
        "barriounico2018 = df_2018.drop_duplicates(subset=['BARRIOS_HECHO'])\n",
        "barrios2018 = list(barriounico2018.BARRIOS_HECHO)\n",
        "Dicionariobarrios2018 = Dicionario(barrios2018, df_2018)\n",
        "\n",
        "barriounico2019 = df_2019.drop_duplicates(subset=['BARRIOS_HECHO'])\n",
        "barrios2019 = list(barriounico2019.BARRIOS_HECHO)\n",
        "Dicionariobarrios2019 = Dicionario(barrios2019,df_2019)\n",
        "\n",
        "barriounico2020 = df_2020.drop_duplicates(subset=['BARRIOS_HECHO'])\n",
        "barrios2020 = list(barriounico2020.BARRIOS_HECHO)\n",
        "Dicionariobarrios2020 = Dicionario(barrios2020,df_2020)\n",
        "\n",
        "barriounico2021 = df_2021.drop_duplicates(subset=['BARRIOS_HECHO'])\n",
        "barrios2021 = list(barriounico2021.BARRIOS_HECHO)\n",
        "Dicionariobarrios2021 = Dicionario(barrios2021,df_2021)\n",
        "\n",
        "barriounico2022 = df_2022.drop_duplicates(subset=['BARRIOS_HECHO'])\n",
        "barrios2022 = list(barriounico2022.BARRIOS_HECHO)\n",
        "Dicionariobarrios2022 = Dicionario(barrios2022,df_2022)\n"
      ],
      "metadata": {
        "id": "a4_jLBFToQDp"
      },
      "execution_count": 15,
      "outputs": []
    },
    {
      "cell_type": "markdown",
      "source": [
        "###Organizamos el dicionario de mayor a menor"
      ],
      "metadata": {
        "id": "oRnOlnDT7Uu3"
      }
    },
    {
      "cell_type": "code",
      "source": [
        "dicionario2018_sort = ordanardic(Dicionariobarrios2018)\n",
        "dicionario2019_sort = ordanardic(Dicionariobarrios2019)\n",
        "dicionario2020_sort = ordanardic(Dicionariobarrios2020)\n",
        "dicionario2021_sort = ordanardic(Dicionariobarrios2021)\n",
        "dicionario2022_sort = ordanardic(Dicionariobarrios2022)\n",
        "#dicionario2022_sort\n",
        "\n",
        "\n",
        "dfd2018 = pd.DataFrame([[key, dicionario2018_sort[key]] for key in dicionario2018_sort.keys()], columns=['Barrio', 'Caso'])\n",
        "dfd2019 = pd.DataFrame([[key, dicionario2019_sort[key]] for key in dicionario2019_sort.keys()], columns=['Barrio', 'Caso'])\n",
        "dfd2020 = pd.DataFrame([[key, dicionario2020_sort[key]] for key in dicionario2020_sort.keys()], columns=['Barrio', 'Caso'])\n",
        "dfd2021 = pd.DataFrame([[key, dicionario2021_sort[key]] for key in dicionario2021_sort.keys()], columns=['Barrio', 'Caso'])\n",
        "dfd2022 = pd.DataFrame([[key, dicionario2022_sort[key]] for key in dicionario2022_sort.keys()], columns=['Barrio', 'Caso'])\n",
        "#dfd2020.head()\n",
        "\n",
        "\n",
        "dfd2022"
      ],
      "metadata": {
        "colab": {
          "base_uri": "https://localhost:8080/",
          "height": 423
        },
        "id": "Y6sztjts4XaF",
        "outputId": "c8a8e909-5227-447e-8cef-fd2a60b17232"
      },
      "execution_count": 16,
      "outputs": [
        {
          "output_type": "execute_result",
          "data": {
            "text/plain": [
              "                    Barrio  Caso\n",
              "0                   CENTRO   235\n",
              "1    CIUDADELA 20 DE JULIO   210\n",
              "2                   REBOLO   190\n",
              "3               7 DE ABRIL   169\n",
              "4            SIMON BOLIVAR   149\n",
              "..                     ...   ...\n",
              "235            LA ARBOLEDA     1\n",
              "236       CIUDAD CARIBE II     1\n",
              "237        PRIMERO DE MAYO     1\n",
              "238           BARRIO ABAJO     1\n",
              "239       ALPES DE SEVILLA     1\n",
              "\n",
              "[240 rows x 2 columns]"
            ],
            "text/html": [
              "\n",
              "  <div id=\"df-e2eb1c85-adbd-48e1-b727-466fbc57b4d4\">\n",
              "    <div class=\"colab-df-container\">\n",
              "      <div>\n",
              "<style scoped>\n",
              "    .dataframe tbody tr th:only-of-type {\n",
              "        vertical-align: middle;\n",
              "    }\n",
              "\n",
              "    .dataframe tbody tr th {\n",
              "        vertical-align: top;\n",
              "    }\n",
              "\n",
              "    .dataframe thead th {\n",
              "        text-align: right;\n",
              "    }\n",
              "</style>\n",
              "<table border=\"1\" class=\"dataframe\">\n",
              "  <thead>\n",
              "    <tr style=\"text-align: right;\">\n",
              "      <th></th>\n",
              "      <th>Barrio</th>\n",
              "      <th>Caso</th>\n",
              "    </tr>\n",
              "  </thead>\n",
              "  <tbody>\n",
              "    <tr>\n",
              "      <th>0</th>\n",
              "      <td>CENTRO</td>\n",
              "      <td>235</td>\n",
              "    </tr>\n",
              "    <tr>\n",
              "      <th>1</th>\n",
              "      <td>CIUDADELA 20 DE JULIO</td>\n",
              "      <td>210</td>\n",
              "    </tr>\n",
              "    <tr>\n",
              "      <th>2</th>\n",
              "      <td>REBOLO</td>\n",
              "      <td>190</td>\n",
              "    </tr>\n",
              "    <tr>\n",
              "      <th>3</th>\n",
              "      <td>7 DE ABRIL</td>\n",
              "      <td>169</td>\n",
              "    </tr>\n",
              "    <tr>\n",
              "      <th>4</th>\n",
              "      <td>SIMON BOLIVAR</td>\n",
              "      <td>149</td>\n",
              "    </tr>\n",
              "    <tr>\n",
              "      <th>...</th>\n",
              "      <td>...</td>\n",
              "      <td>...</td>\n",
              "    </tr>\n",
              "    <tr>\n",
              "      <th>235</th>\n",
              "      <td>LA ARBOLEDA</td>\n",
              "      <td>1</td>\n",
              "    </tr>\n",
              "    <tr>\n",
              "      <th>236</th>\n",
              "      <td>CIUDAD CARIBE II</td>\n",
              "      <td>1</td>\n",
              "    </tr>\n",
              "    <tr>\n",
              "      <th>237</th>\n",
              "      <td>PRIMERO DE MAYO</td>\n",
              "      <td>1</td>\n",
              "    </tr>\n",
              "    <tr>\n",
              "      <th>238</th>\n",
              "      <td>BARRIO ABAJO</td>\n",
              "      <td>1</td>\n",
              "    </tr>\n",
              "    <tr>\n",
              "      <th>239</th>\n",
              "      <td>ALPES DE SEVILLA</td>\n",
              "      <td>1</td>\n",
              "    </tr>\n",
              "  </tbody>\n",
              "</table>\n",
              "<p>240 rows × 2 columns</p>\n",
              "</div>\n",
              "      <button class=\"colab-df-convert\" onclick=\"convertToInteractive('df-e2eb1c85-adbd-48e1-b727-466fbc57b4d4')\"\n",
              "              title=\"Convert this dataframe to an interactive table.\"\n",
              "              style=\"display:none;\">\n",
              "        \n",
              "  <svg xmlns=\"http://www.w3.org/2000/svg\" height=\"24px\"viewBox=\"0 0 24 24\"\n",
              "       width=\"24px\">\n",
              "    <path d=\"M0 0h24v24H0V0z\" fill=\"none\"/>\n",
              "    <path d=\"M18.56 5.44l.94 2.06.94-2.06 2.06-.94-2.06-.94-.94-2.06-.94 2.06-2.06.94zm-11 1L8.5 8.5l.94-2.06 2.06-.94-2.06-.94L8.5 2.5l-.94 2.06-2.06.94zm10 10l.94 2.06.94-2.06 2.06-.94-2.06-.94-.94-2.06-.94 2.06-2.06.94z\"/><path d=\"M17.41 7.96l-1.37-1.37c-.4-.4-.92-.59-1.43-.59-.52 0-1.04.2-1.43.59L10.3 9.45l-7.72 7.72c-.78.78-.78 2.05 0 2.83L4 21.41c.39.39.9.59 1.41.59.51 0 1.02-.2 1.41-.59l7.78-7.78 2.81-2.81c.8-.78.8-2.07 0-2.86zM5.41 20L4 18.59l7.72-7.72 1.47 1.35L5.41 20z\"/>\n",
              "  </svg>\n",
              "      </button>\n",
              "      \n",
              "  <style>\n",
              "    .colab-df-container {\n",
              "      display:flex;\n",
              "      flex-wrap:wrap;\n",
              "      gap: 12px;\n",
              "    }\n",
              "\n",
              "    .colab-df-convert {\n",
              "      background-color: #E8F0FE;\n",
              "      border: none;\n",
              "      border-radius: 50%;\n",
              "      cursor: pointer;\n",
              "      display: none;\n",
              "      fill: #1967D2;\n",
              "      height: 32px;\n",
              "      padding: 0 0 0 0;\n",
              "      width: 32px;\n",
              "    }\n",
              "\n",
              "    .colab-df-convert:hover {\n",
              "      background-color: #E2EBFA;\n",
              "      box-shadow: 0px 1px 2px rgba(60, 64, 67, 0.3), 0px 1px 3px 1px rgba(60, 64, 67, 0.15);\n",
              "      fill: #174EA6;\n",
              "    }\n",
              "\n",
              "    [theme=dark] .colab-df-convert {\n",
              "      background-color: #3B4455;\n",
              "      fill: #D2E3FC;\n",
              "    }\n",
              "\n",
              "    [theme=dark] .colab-df-convert:hover {\n",
              "      background-color: #434B5C;\n",
              "      box-shadow: 0px 1px 3px 1px rgba(0, 0, 0, 0.15);\n",
              "      filter: drop-shadow(0px 1px 2px rgba(0, 0, 0, 0.3));\n",
              "      fill: #FFFFFF;\n",
              "    }\n",
              "  </style>\n",
              "\n",
              "      <script>\n",
              "        const buttonEl =\n",
              "          document.querySelector('#df-e2eb1c85-adbd-48e1-b727-466fbc57b4d4 button.colab-df-convert');\n",
              "        buttonEl.style.display =\n",
              "          google.colab.kernel.accessAllowed ? 'block' : 'none';\n",
              "\n",
              "        async function convertToInteractive(key) {\n",
              "          const element = document.querySelector('#df-e2eb1c85-adbd-48e1-b727-466fbc57b4d4');\n",
              "          const dataTable =\n",
              "            await google.colab.kernel.invokeFunction('convertToInteractive',\n",
              "                                                     [key], {});\n",
              "          if (!dataTable) return;\n",
              "\n",
              "          const docLinkHtml = 'Like what you see? Visit the ' +\n",
              "            '<a target=\"_blank\" href=https://colab.research.google.com/notebooks/data_table.ipynb>data table notebook</a>'\n",
              "            + ' to learn more about interactive tables.';\n",
              "          element.innerHTML = '';\n",
              "          dataTable['output_type'] = 'display_data';\n",
              "          await google.colab.output.renderOutput(dataTable, element);\n",
              "          const docLink = document.createElement('div');\n",
              "          docLink.innerHTML = docLinkHtml;\n",
              "          element.appendChild(docLink);\n",
              "        }\n",
              "      </script>\n",
              "    </div>\n",
              "  </div>\n",
              "  "
            ]
          },
          "metadata": {},
          "execution_count": 16
        }
      ]
    },
    {
      "cell_type": "markdown",
      "source": [
        "###Frecuencia de barrios del 2018 al 2022 con mas registro\n",
        "1. CENTRO\n",
        "2. CIUDADELA 20 DE JULIO\n",
        "3. REBOLO\n",
        "4. EL BOSQUE\n",
        "5. SIMON BOLIVAR\n"
      ],
      "metadata": {
        "id": "DvzyEBfAAYeR"
      }
    },
    {
      "cell_type": "code",
      "source": [
        "ListaBarriosultimoanios = [\"CENTRO\", \"CIUDADELA 20 DE JULIO\", \"REBOLO\", \"EL BOSQUE\", \"SIMON BOLIVAR\", \"MONTES\"]\n",
        "d2018_barrios = {}\n",
        "d2019_barrios = {}\n",
        "d2020_barrios = {}\n",
        "d2021_barrios = {}\n",
        "d2022_barrios = {}\n",
        "\n",
        "l2018barrios = []\n",
        "l2019barrios = []\n",
        "l2020barrios = []\n",
        "l2021barrios = []\n",
        "l2022barrios = []\n",
        "\n",
        "for item in ListaBarriosultimoanios:\n",
        "  d2018_barrios[item]=cantidad(item, df_2018)\n",
        "  l2018barrios.append(cantidad(item, df_2018))\n",
        "\n",
        "for item in ListaBarriosultimoanios:\n",
        "  d2019_barrios[item]=cantidad(item, df_2019)\n",
        "  l2019barrios.append(cantidad(item, df_2019))\n",
        "\n",
        "for item in ListaBarriosultimoanios:\n",
        "  d2020_barrios[item]=cantidad(item, df_2020)\n",
        "  l2020barrios.append(cantidad(item, df_2020))\n",
        "\n",
        "for item in ListaBarriosultimoanios:\n",
        "  d2021_barrios[item]=cantidad(item, df_2021)\n",
        "  l2021barrios.append(cantidad(item, df_2021))\n",
        "\n",
        "for item in ListaBarriosultimoanios:\n",
        "  d2022_barrios[item]=cantidad(item, df_2022)\n",
        "  l2022barrios.append(cantidad(item, df_2022))\n",
        "\n",
        "\n",
        "dfNew2018 = pd.DataFrame([[key, dicionario2018_sort[key]] for key in d2018_barrios.keys()], columns=['Barrio', 'Caso'])\n",
        "dfNew2019 = pd.DataFrame([[key, dicionario2018_sort[key]] for key in d2019_barrios.keys()], columns=['Barrio', 'Caso'])\n",
        "dfNew2020 = pd.DataFrame([[key, dicionario2018_sort[key]] for key in d2020_barrios.keys()], columns=['Barrio', 'Caso'])\n",
        "dfNew2021 = pd.DataFrame([[key, dicionario2018_sort[key]] for key in d2021_barrios.keys()], columns=['Barrio', 'Caso'])\n",
        "dfNew2022 = pd.DataFrame([[key, dicionario2018_sort[key]] for key in d2022_barrios.keys()], columns=['Barrio', 'Caso'])\n",
        "\n",
        "\n",
        "l2022barrios\n"
      ],
      "metadata": {
        "colab": {
          "base_uri": "https://localhost:8080/"
        },
        "id": "H1l8428qAj7d",
        "outputId": "1aba9ad5-71b8-42d0-d6fa-ef1aee725699"
      },
      "execution_count": 17,
      "outputs": [
        {
          "output_type": "execute_result",
          "data": {
            "text/plain": [
              "[235, 210, 190, 143, 149, 94]"
            ]
          },
          "metadata": {},
          "execution_count": 17
        }
      ]
    },
    {
      "cell_type": "markdown",
      "source": [
        "###sacamos graficos de los primeros 5 barrios con mayor casos y con mayor frecuencia en los periodods de tiempos"
      ],
      "metadata": {
        "id": "rXAZL7eYECFk"
      }
    },
    {
      "cell_type": "code",
      "source": [
        "ListDF2018 = list(SUMADF2018)\n",
        "ListDF2019 = list(SUMADF2019)\n",
        "ListDF2020 = list(SUMADF2020)\n",
        "ListDF2021 = list(SUMADF2021)\n",
        "ListDF2022 = list(d2022_barrios)\n",
        "\n",
        "x = np.arange(len(ListaBarriosultimoanios))  # the label locations\n",
        "width = 0.22  # the width of the bars\n",
        "\n",
        "fig, ax = plt.subplots( figsize=(20,10))\n",
        "rects1 = ax.bar(x - width/2, l2018barrios, width, label='2018')\n",
        "rects2 = ax.bar(x + width/2, l2019barrios, width, label='2019')\n",
        "rects3 = ax.bar(x - (width+0.25)/2, l2020barrios, width, label='2020')\n",
        "rects4 = ax.bar(x + (width+0.35)/2, l2021barrios, width, label='2021')\n",
        "rects5 = ax.bar(x + (width+0.60)/2, l2022barrios, width, label='2022')\n",
        "\n",
        "# Add some text for labels, title and custom x-axis tick labels, etc.\n",
        "ax.set_ylabel('Incidentes')\n",
        "ax.set_title('Hurtos desde 2018 al 2022')\n",
        "ax.set_xticks(x)\n",
        "ax.set_xticklabels(ListaBarriosultimoanios)\n",
        "ax.legend()\n",
        "\n",
        "\n",
        "def autolabel(rects):\n",
        "    \"\"\"Attach a text label above each bar in *rects*, displaying its height.\"\"\"\n",
        "    for rect in rects:\n",
        "        height = rect.get_height()\n",
        "        ax.annotate('{}'.format(height),\n",
        "                    xy=(rect.get_x() + rect.get_width() / 2, height),\n",
        "                    xytext=(0, 3),  # 3 points vertical offset\n",
        "                    textcoords=\"offset points\",\n",
        "                    ha='center', va='bottom')\n",
        "\n",
        "\n",
        "autolabel(rects1)\n",
        "autolabel(rects2)\n",
        "autolabel(rects3)\n",
        "autolabel(rects4)\n",
        "autolabel(rects5)\n",
        "\n",
        "fig.tight_layout()\n",
        "\n",
        "plt.show()"
      ],
      "metadata": {
        "colab": {
          "base_uri": "https://localhost:8080/",
          "height": 571
        },
        "id": "ItMcmruuEJ-M",
        "outputId": "16520c42-4b1d-423e-a63b-a88069603e97"
      },
      "execution_count": 37,
      "outputs": [
        {
          "output_type": "display_data",
          "data": {
            "text/plain": [
              "<Figure size 1440x720 with 1 Axes>"
            ],
            "image/png": "[encoded data removed]"
          },
          "metadata": {
            "needs_background": "light"
          }
        }
      ]
    },
    {
      "cell_type": "markdown",
      "source": [
        "###Sacamos las diferentes ['ARMAS_MEDIOS'] y realizamos el grafico correspondiente hay 1 sola modalidad que es Atraco"
      ],
      "metadata": {
        "id": "7MlrAPRZTmzh"
      }
    },
    {
      "cell_type": "code",
      "source": [
        "ARMAS_MEDIOS = df.drop_duplicates(subset=['ARMAS_MEDIOS'])\n",
        "ARMAS_MEDIOS['ARMAS_MEDIOS']"
      ],
      "metadata": {
        "id": "8Y0Km92pTudg",
        "outputId": "d0483d88-95f4-4f8c-b717-32bc529149d1",
        "colab": {
          "base_uri": "https://localhost:8080/"
        }
      },
      "execution_count": 38,
      "outputs": [
        {
          "output_type": "execute_result",
          "data": {
            "text/plain": [
              "0        ARMA BLANCA / CORTOPUNZANTE\n",
              "920                    ARMA DE FUEGO\n",
              "6260                    CONTUNDENTES\n",
              "6327                    ESCOPOLAMINA\n",
              "6334             SIN EMPLEO DE ARMAS\n",
              "6612                             NaN\n",
              "31763                          TOTAL\n",
              "Name: ARMAS_MEDIOS, dtype: object"
            ]
          },
          "metadata": {},
          "execution_count": 38
        }
      ]
    },
    {
      "cell_type": "code",
      "source": [
        "ListaAmas_Medios = ['ARMA DE FUEGO','CONTUNDENTES','ESCOPOLAMINA','SIN EMPLEO DE ARMAS']\n",
        "\n",
        "\n",
        "ARMAS_MEDIOS= df.groupby('ARMAS_MEDIOS').sum()\n",
        "ARMAS_MEDIOS['Hurto Personas/ HechosDEL 01/01/2018 AL 27/12/2022']"
      ],
      "metadata": {
        "id": "v4RHmTjrV1rd",
        "outputId": "2d44f321-d4e0-4c80-b25d-64418c517429",
        "colab": {
          "base_uri": "https://localhost:8080/"
        }
      },
      "execution_count": 46,
      "outputs": [
        {
          "output_type": "execute_result",
          "data": {
            "text/plain": [
              "ARMAS_MEDIOS\n",
              "ARMA BLANCA / CORTOPUNZANTE     6619\n",
              "ARMA DE FUEGO                  27258\n",
              "CONTUNDENTES                     414\n",
              "ESCOPOLAMINA                      71\n",
              "SIN EMPLEO DE ARMAS             1297\n",
              "TOTAL                          35700\n",
              "Name: Hurto Personas/ HechosDEL 01/01/2018 AL 27/12/2022, dtype: int64"
            ]
          },
          "metadata": {},
          "execution_count": 46
        }
      ]
    },
    {
      "cell_type": "code",
      "source": [
        "def contarArmasMedio(df, concepto):\n",
        "  contar=0\n",
        "  for item in df.ARMAS_MEDIOS:\n",
        "    if concepto == item:\n",
        "      contar= contar +1\n",
        "  return contar"
      ],
      "metadata": {
        "id": "IWnvPwa6MK5h"
      },
      "execution_count": 47,
      "outputs": []
    },
    {
      "cell_type": "code",
      "source": [
        "\n",
        "lArmas = []\n",
        "c=0\n",
        "for item in ListaAmas_Medios:\n",
        "  c= contarArmasMedio(df, item)\n",
        "  lArmas.append(c)\n",
        "\n",
        "lArmas\n",
        "\n",
        "\n",
        "fig, ax = plt.subplots(figsize=(15,7))\n",
        "\n",
        "\n",
        "bar_labels = ['red', 'blue', '_red', 'orange']\n",
        "bar_colors = ['tab:red', 'tab:blue', 'tab:red', 'tab:orange']\n",
        "\n",
        "rects1 =ax.bar(ListaAmas_Medios, lArmas, label=bar_labels, color=bar_colors)\n",
        "\n",
        "ax.set_ylabel('ARMAS MEDIOS')\n",
        "ax.set_title('Hurtos 2018 - 2022')\n",
        "ax.legend(title='Hurtos color')\n",
        "\n",
        "autolabel(rects1)\n",
        "\n",
        "plt.show()\n"
      ],
      "metadata": {
        "id": "kA7qTNm0MkPv",
        "outputId": "363fd6e6-7bfe-4b84-f1ba-e107f6794260",
        "colab": {
          "base_uri": "https://localhost:8080/",
          "height": 444
        }
      },
      "execution_count": 60,
      "outputs": [
        {
          "output_type": "display_data",
          "data": {
            "text/plain": [
              "<Figure size 1080x504 with 1 Axes>"
            ],
            "image/png": "[encoded data removed]"
          },
          "metadata": {
            "needs_background": "light"
          }
        }
      ]
    }
  ]
}